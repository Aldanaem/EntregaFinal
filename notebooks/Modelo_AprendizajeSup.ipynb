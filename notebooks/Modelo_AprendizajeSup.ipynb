{
 "cells": [
  {
   "cell_type": "markdown",
   "id": "2747f030-a7f0-40a7-8f07-3929c736c481",
   "metadata": {
    "tags": []
   },
   "source": [
    "![Grupo](gru8.jpeg)"
   ]
  },
  {
   "cell_type": "markdown",
   "id": "34b7feb8",
   "metadata": {
    "id": "34b7feb8",
    "tags": []
   },
   "source": [
    "# MODELO DE APRENDIZAJE SUPERVISADO"
   ]
  },
  {
   "cell_type": "markdown",
   "id": "3cae8a55-ad8c-45b3-8ab1-934fdf20d317",
   "metadata": {},
   "source": [
    "### Objetivo"
   ]
  },
  {
   "cell_type": "markdown",
   "id": "f8d16856-e05a-4445-9026-6e13191b8cf2",
   "metadata": {},
   "source": [
    "Predicción de la elección extra de equipaje de aerolíneas British Airways."
   ]
  },
  {
   "cell_type": "markdown",
   "id": "2319e428",
   "metadata": {
    "id": "2319e428"
   },
   "source": [
    "***1- Importamos librerías***"
   ]
  },
  {
   "cell_type": "code",
   "execution_count": 1,
   "id": "d0f00567",
   "metadata": {
    "id": "d0f00567",
    "tags": []
   },
   "outputs": [],
   "source": [
    "import pandas as pd\n",
    "import numpy as np\n",
    "import matplotlib.pyplot as plt\n",
    "import seaborn as sns\n",
    "from sklearn.model_selection import train_test_split"
   ]
  },
  {
   "cell_type": "markdown",
   "id": "5ab6debd-b827-4d8b-94ab-188fa2a4aa58",
   "metadata": {
    "tags": []
   },
   "source": [
    "***2- Leemos el Dataset (limpio y con las variables codificadas para el análisis)***"
   ]
  },
  {
   "cell_type": "code",
   "execution_count": 2,
   "id": "9e38b892",
   "metadata": {
    "id": "9e38b892",
    "tags": []
   },
   "outputs": [],
   "source": [
    "PasajerosAerolineas= pd.read_csv('PasajerosAerolineas_Limpio2.csv')"
   ]
  },
  {
   "cell_type": "markdown",
   "id": "b6e71de2-2cff-495d-885f-2ecbeea8f5aa",
   "metadata": {
    "tags": []
   },
   "source": [
    "***3- Revisamos las features del Data set***"
   ]
  },
  {
   "cell_type": "code",
   "execution_count": 3,
   "id": "3b1b0602",
   "metadata": {
    "id": "3b1b0602",
    "outputId": "8b2a96c6-3b84-4ffa-8bb4-c13e3b20fce2",
    "tags": []
   },
   "outputs": [
    {
     "name": "stdout",
     "output_type": "stream",
     "text": [
      "<class 'pandas.core.frame.DataFrame'>\n",
      "RangeIndex: 50002 entries, 0 to 50001\n",
      "Data columns (total 14 columns):\n",
      " #   Column               Non-Null Count  Dtype\n",
      "---  ------               --------------  -----\n",
      " 0   NumeroDePasajeros    50002 non-null  int64\n",
      " 1   CanalDeVenta         50002 non-null  int64\n",
      " 2   TipoDeViaje          50002 non-null  int64\n",
      " 3   ClientePotencial     50002 non-null  int64\n",
      " 4   Estadia              50002 non-null  int64\n",
      " 5   HorarioDelVuelo      50002 non-null  int64\n",
      " 6   DiaDelVuelo          50002 non-null  int64\n",
      " 7   Ruta                 50002 non-null  int64\n",
      " 8   OrigenReserva        50002 non-null  int64\n",
      " 9   EquipajeExtra        50002 non-null  int64\n",
      " 10  AsientosPreferido    50002 non-null  int64\n",
      " 11  QuiereComidaEnVuelo  50002 non-null  int64\n",
      " 12  DuracionDelVuelo     50002 non-null  int64\n",
      " 13  ReservaCompleta      50002 non-null  int64\n",
      "dtypes: int64(14)\n",
      "memory usage: 5.3 MB\n"
     ]
    }
   ],
   "source": [
    "PasajerosAerolineas.info()"
   ]
  },
  {
   "cell_type": "markdown",
   "id": "1ddaaf15-ddb2-4a22-866d-8846fa9f4a5e",
   "metadata": {
    "tags": []
   },
   "source": [
    "***4- Modelos Predictivos***"
   ]
  },
  {
   "cell_type": "markdown",
   "id": "c4c3d0d7",
   "metadata": {
    "id": "c4c3d0d7"
   },
   "source": [
    "***4.1. Seleccion de target (y) y variables (X)***"
   ]
  },
  {
   "cell_type": "code",
   "execution_count": 4,
   "id": "2da93248",
   "metadata": {
    "id": "2da93248",
    "tags": []
   },
   "outputs": [],
   "source": [
    "X = PasajerosAerolineas.drop(['EquipajeExtra'], axis=1)"
   ]
  },
  {
   "cell_type": "markdown",
   "id": "21520cbf",
   "metadata": {
    "id": "21520cbf"
   },
   "source": [
    "* Instancio la variable X2 la cual voy a utilizar en la segunda prueba, previamente realizó un drop de las columnas que no quiero utilizar."
   ]
  },
  {
   "cell_type": "code",
   "execution_count": 5,
   "id": "f33ab036",
   "metadata": {
    "id": "f33ab036",
    "tags": []
   },
   "outputs": [],
   "source": [
    "Columnasdrop = (['EquipajeExtra','ReservaCompleta','ClientePotencial','HorarioDelVuelo','HorarioDelVuelo'])"
   ]
  },
  {
   "cell_type": "code",
   "execution_count": 6,
   "id": "c1732ff1",
   "metadata": {
    "id": "c1732ff1",
    "tags": []
   },
   "outputs": [],
   "source": [
    "X2 = PasajerosAerolineas.drop(columns=Columnasdrop)"
   ]
  },
  {
   "cell_type": "code",
   "execution_count": 7,
   "id": "b8eb62df",
   "metadata": {
    "id": "b8eb62df",
    "outputId": "d0545164-fae0-41ab-d83c-61b0198d549f",
    "tags": []
   },
   "outputs": [
    {
     "data": {
      "text/plain": [
       "(50002, 13)"
      ]
     },
     "execution_count": 7,
     "metadata": {},
     "output_type": "execute_result"
    }
   ],
   "source": [
    "X.shape"
   ]
  },
  {
   "cell_type": "code",
   "execution_count": 8,
   "id": "5d7fecac",
   "metadata": {
    "id": "5d7fecac",
    "outputId": "87c9ac5a-43f6-48ed-b5de-97afb314c722",
    "tags": []
   },
   "outputs": [
    {
     "data": {
      "text/plain": [
       "(50002, 10)"
      ]
     },
     "execution_count": 8,
     "metadata": {},
     "output_type": "execute_result"
    }
   ],
   "source": [
    "X2.shape"
   ]
  },
  {
   "cell_type": "code",
   "execution_count": 9,
   "id": "40ed066b",
   "metadata": {
    "id": "40ed066b",
    "tags": []
   },
   "outputs": [],
   "source": [
    "y = PasajerosAerolineas ['EquipajeExtra']"
   ]
  },
  {
   "cell_type": "code",
   "execution_count": 10,
   "id": "3da81404",
   "metadata": {
    "id": "3da81404",
    "tags": []
   },
   "outputs": [],
   "source": [
    "X, y = np.array(X), np.array(y)"
   ]
  },
  {
   "cell_type": "code",
   "execution_count": 11,
   "id": "2d317504",
   "metadata": {
    "id": "2d317504",
    "tags": []
   },
   "outputs": [],
   "source": [
    "X2,y =np.array(X2), np.array(y)"
   ]
  },
  {
   "cell_type": "markdown",
   "id": "694661ee",
   "metadata": {
    "id": "694661ee"
   },
   "source": [
    "***4.2. Separación de Train / Test***\n"
   ]
  },
  {
   "cell_type": "code",
   "execution_count": 12,
   "id": "f0dca1b5",
   "metadata": {
    "id": "f0dca1b5",
    "tags": []
   },
   "outputs": [],
   "source": [
    "X_train, X_test, y_train, y_test = train_test_split(X, y, test_size=0.2,\n",
    "                                                    random_state=42)"
   ]
  },
  {
   "cell_type": "markdown",
   "id": "eb000a22",
   "metadata": {
    "id": "eb000a22"
   },
   "source": [
    "* Separo la variable X2 en train / test"
   ]
  },
  {
   "cell_type": "code",
   "execution_count": 13,
   "id": "283e16ba",
   "metadata": {
    "id": "283e16ba",
    "tags": []
   },
   "outputs": [],
   "source": [
    "X2_train, X2_test, y_train, y_test = train_test_split(X2, y, test_size=0.2,\n",
    "                                                    random_state=42)"
   ]
  },
  {
   "cell_type": "code",
   "execution_count": 14,
   "id": "8bef243d",
   "metadata": {
    "id": "8bef243d",
    "outputId": "f86bdc96-5cc5-4ee2-f4db-6c4edcd04ddc",
    "tags": []
   },
   "outputs": [
    {
     "data": {
      "text/plain": [
       "(40001, 13)"
      ]
     },
     "execution_count": 14,
     "metadata": {},
     "output_type": "execute_result"
    }
   ],
   "source": [
    "X_train.shape"
   ]
  },
  {
   "cell_type": "code",
   "execution_count": 15,
   "id": "6f92c07b",
   "metadata": {
    "id": "6f92c07b",
    "outputId": "8339b765-b5cb-4d18-ebf8-2f8bd2ebc9ac",
    "tags": []
   },
   "outputs": [
    {
     "data": {
      "text/plain": [
       "(10001, 13)"
      ]
     },
     "execution_count": 15,
     "metadata": {},
     "output_type": "execute_result"
    }
   ],
   "source": [
    "X_test.shape"
   ]
  },
  {
   "cell_type": "code",
   "execution_count": 16,
   "id": "6e6b427a",
   "metadata": {
    "id": "6e6b427a",
    "outputId": "c268e7e4-1d9a-4111-f08b-a31f2f38e74d",
    "tags": []
   },
   "outputs": [
    {
     "data": {
      "text/plain": [
       "(40001, 10)"
      ]
     },
     "execution_count": 16,
     "metadata": {},
     "output_type": "execute_result"
    }
   ],
   "source": [
    "X2_train.shape"
   ]
  },
  {
   "cell_type": "code",
   "execution_count": 17,
   "id": "502ea371",
   "metadata": {
    "id": "502ea371",
    "outputId": "42d47cba-dd6f-4e75-d1f5-f0b9e17ece72",
    "tags": []
   },
   "outputs": [
    {
     "data": {
      "text/plain": [
       "(10001, 10)"
      ]
     },
     "execution_count": 17,
     "metadata": {},
     "output_type": "execute_result"
    }
   ],
   "source": [
    "X2_test.shape"
   ]
  },
  {
   "cell_type": "markdown",
   "id": "cccac435",
   "metadata": {
    "id": "cccac435"
   },
   "source": [
    "***4.3. Importamos los modelos***"
   ]
  },
  {
   "cell_type": "code",
   "execution_count": 18,
   "id": "2c28968f",
   "metadata": {
    "id": "2c28968f",
    "tags": []
   },
   "outputs": [],
   "source": [
    "from sklearn.neighbors import KNeighborsClassifier\n",
    "from sklearn.ensemble import RandomForestClassifier\n",
    "from sklearn.model_selection import GridSearchCV"
   ]
  },
  {
   "cell_type": "markdown",
   "id": "aa13df85",
   "metadata": {
    "id": "aa13df85"
   },
   "source": [
    "***4.4. Importamos las métricas***"
   ]
  },
  {
   "cell_type": "code",
   "execution_count": 19,
   "id": "57092dd1",
   "metadata": {
    "id": "57092dd1",
    "tags": []
   },
   "outputs": [],
   "source": [
    "from sklearn.metrics import (\n",
    "    accuracy_score,\n",
    "    confusion_matrix,\n",
    "    precision_score,\n",
    "    recall_score,\n",
    "    f1_score\n",
    ")"
   ]
  },
  {
   "cell_type": "markdown",
   "id": "14aa5984",
   "metadata": {
    "id": "14aa5984"
   },
   "source": [
    "***5. Modelo KNN***"
   ]
  },
  {
   "cell_type": "markdown",
   "id": "fc734584-d175-4b13-91f4-40d6f0830c00",
   "metadata": {},
   "source": [
    "En primera instancia se elige como modelo de clasificación KNN (K-Nearest Neighbors) ya que contamos con datos etiquetados y buscamos predecir una variable target."
   ]
  },
  {
   "cell_type": "markdown",
   "id": "5c0d333e",
   "metadata": {
    "id": "5c0d333e"
   },
   "source": [
    "***5.1. Primera Prueba***"
   ]
  },
  {
   "cell_type": "markdown",
   "id": "612f84af",
   "metadata": {},
   "source": [
    "Se busca a través del modelo KNN sin la variable (['EquipajeExtra']) desarrollar la perfomance mas eficiente para desarrollar nuestro algoritmo de maching learning."
   ]
  },
  {
   "cell_type": "code",
   "execution_count": 20,
   "id": "5b8dcb0d",
   "metadata": {
    "id": "5b8dcb0d",
    "tags": []
   },
   "outputs": [],
   "source": [
    "knn = KNeighborsClassifier()"
   ]
  },
  {
   "cell_type": "markdown",
   "id": "68b754d8",
   "metadata": {
    "id": "68b754d8"
   },
   "source": [
    "* Entrenamos el modelo"
   ]
  },
  {
   "cell_type": "code",
   "execution_count": 21,
   "id": "749a6613",
   "metadata": {
    "id": "749a6613",
    "outputId": "75cfa20e-796f-4e6f-fea3-2be679ba851e",
    "scrolled": true,
    "tags": []
   },
   "outputs": [
    {
     "data": {
      "text/html": [
       "<style>#sk-container-id-1 {color: black;}#sk-container-id-1 pre{padding: 0;}#sk-container-id-1 div.sk-toggleable {background-color: white;}#sk-container-id-1 label.sk-toggleable__label {cursor: pointer;display: block;width: 100%;margin-bottom: 0;padding: 0.3em;box-sizing: border-box;text-align: center;}#sk-container-id-1 label.sk-toggleable__label-arrow:before {content: \"▸\";float: left;margin-right: 0.25em;color: #696969;}#sk-container-id-1 label.sk-toggleable__label-arrow:hover:before {color: black;}#sk-container-id-1 div.sk-estimator:hover label.sk-toggleable__label-arrow:before {color: black;}#sk-container-id-1 div.sk-toggleable__content {max-height: 0;max-width: 0;overflow: hidden;text-align: left;background-color: #f0f8ff;}#sk-container-id-1 div.sk-toggleable__content pre {margin: 0.2em;color: black;border-radius: 0.25em;background-color: #f0f8ff;}#sk-container-id-1 input.sk-toggleable__control:checked~div.sk-toggleable__content {max-height: 200px;max-width: 100%;overflow: auto;}#sk-container-id-1 input.sk-toggleable__control:checked~label.sk-toggleable__label-arrow:before {content: \"▾\";}#sk-container-id-1 div.sk-estimator input.sk-toggleable__control:checked~label.sk-toggleable__label {background-color: #d4ebff;}#sk-container-id-1 div.sk-label input.sk-toggleable__control:checked~label.sk-toggleable__label {background-color: #d4ebff;}#sk-container-id-1 input.sk-hidden--visually {border: 0;clip: rect(1px 1px 1px 1px);clip: rect(1px, 1px, 1px, 1px);height: 1px;margin: -1px;overflow: hidden;padding: 0;position: absolute;width: 1px;}#sk-container-id-1 div.sk-estimator {font-family: monospace;background-color: #f0f8ff;border: 1px dotted black;border-radius: 0.25em;box-sizing: border-box;margin-bottom: 0.5em;}#sk-container-id-1 div.sk-estimator:hover {background-color: #d4ebff;}#sk-container-id-1 div.sk-parallel-item::after {content: \"\";width: 100%;border-bottom: 1px solid gray;flex-grow: 1;}#sk-container-id-1 div.sk-label:hover label.sk-toggleable__label {background-color: #d4ebff;}#sk-container-id-1 div.sk-serial::before {content: \"\";position: absolute;border-left: 1px solid gray;box-sizing: border-box;top: 0;bottom: 0;left: 50%;z-index: 0;}#sk-container-id-1 div.sk-serial {display: flex;flex-direction: column;align-items: center;background-color: white;padding-right: 0.2em;padding-left: 0.2em;position: relative;}#sk-container-id-1 div.sk-item {position: relative;z-index: 1;}#sk-container-id-1 div.sk-parallel {display: flex;align-items: stretch;justify-content: center;background-color: white;position: relative;}#sk-container-id-1 div.sk-item::before, #sk-container-id-1 div.sk-parallel-item::before {content: \"\";position: absolute;border-left: 1px solid gray;box-sizing: border-box;top: 0;bottom: 0;left: 50%;z-index: -1;}#sk-container-id-1 div.sk-parallel-item {display: flex;flex-direction: column;z-index: 1;position: relative;background-color: white;}#sk-container-id-1 div.sk-parallel-item:first-child::after {align-self: flex-end;width: 50%;}#sk-container-id-1 div.sk-parallel-item:last-child::after {align-self: flex-start;width: 50%;}#sk-container-id-1 div.sk-parallel-item:only-child::after {width: 0;}#sk-container-id-1 div.sk-dashed-wrapped {border: 1px dashed gray;margin: 0 0.4em 0.5em 0.4em;box-sizing: border-box;padding-bottom: 0.4em;background-color: white;}#sk-container-id-1 div.sk-label label {font-family: monospace;font-weight: bold;display: inline-block;line-height: 1.2em;}#sk-container-id-1 div.sk-label-container {text-align: center;}#sk-container-id-1 div.sk-container {/* jupyter's `normalize.less` sets `[hidden] { display: none; }` but bootstrap.min.css set `[hidden] { display: none !important; }` so we also need the `!important` here to be able to override the default hidden behavior on the sphinx rendered scikit-learn.org. See: https://github.com/scikit-learn/scikit-learn/issues/21755 */display: inline-block !important;position: relative;}#sk-container-id-1 div.sk-text-repr-fallback {display: none;}</style><div id=\"sk-container-id-1\" class=\"sk-top-container\"><div class=\"sk-text-repr-fallback\"><pre>KNeighborsClassifier()</pre><b>In a Jupyter environment, please rerun this cell to show the HTML representation or trust the notebook. <br />On GitHub, the HTML representation is unable to render, please try loading this page with nbviewer.org.</b></div><div class=\"sk-container\" hidden><div class=\"sk-item\"><div class=\"sk-estimator sk-toggleable\"><input class=\"sk-toggleable__control sk-hidden--visually\" id=\"sk-estimator-id-1\" type=\"checkbox\" checked><label for=\"sk-estimator-id-1\" class=\"sk-toggleable__label sk-toggleable__label-arrow\">KNeighborsClassifier</label><div class=\"sk-toggleable__content\"><pre>KNeighborsClassifier()</pre></div></div></div></div></div>"
      ],
      "text/plain": [
       "KNeighborsClassifier()"
      ]
     },
     "execution_count": 21,
     "metadata": {},
     "output_type": "execute_result"
    }
   ],
   "source": [
    "knn.fit(X_train, y_train)"
   ]
  },
  {
   "cell_type": "markdown",
   "id": "647b41ad",
   "metadata": {
    "id": "647b41ad"
   },
   "source": [
    "* Predecimos"
   ]
  },
  {
   "cell_type": "code",
   "execution_count": 22,
   "id": "c1307ad7",
   "metadata": {
    "id": "c1307ad7",
    "tags": []
   },
   "outputs": [],
   "source": [
    "predicciones_cla = knn.predict(X_test)"
   ]
  },
  {
   "cell_type": "markdown",
   "id": "22b4986f-3569-4123-a06a-08cfa15a4907",
   "metadata": {},
   "source": [
    "* Graficamos"
   ]
  },
  {
   "cell_type": "code",
   "execution_count": 23,
   "id": "aab4f7b4",
   "metadata": {
    "id": "aab4f7b4",
    "outputId": "d25ca92a-8fd1-40bd-b367-a87ff59db459",
    "tags": []
   },
   "outputs": [
    {
     "data": {
      "image/png": "[encoded data removed]",
      "text/plain": [
       "<Figure size 640x480 with 2 Axes>"
      ]
     },
     "metadata": {},
     "output_type": "display_data"
    }
   ],
   "source": [
    "plt.figure()\n",
    "random_confusion = confusion_matrix(y_test, predicciones_cla)\n",
    "sns.heatmap(random_confusion, cmap=\"YlGnBu\",annot=True);"
   ]
  },
  {
   "cell_type": "markdown",
   "id": "6d1d176a-1362-4286-a933-ffdb1c26cb82",
   "metadata": {
    "tags": []
   },
   "source": [
    "* Métricas"
   ]
  },
  {
   "cell_type": "markdown",
   "id": "822cdcc2-fc72-4d31-88e3-aa1a70f3aea0",
   "metadata": {},
   "source": [
    "Para analizar el rendimiento del modelo se calculan las siguientes métricas: La Accuracy es la proporción de predicciones correctas (verdaderos positivos más verdaderos negativos) en comparación con el total de predicciones. \n",
    "La precisión se centra en las predicciones positivas y mide la proporción de verdaderos positivos con respecto al total de predicciones positivas (verdaderos positivos más falsos positivos).\n",
    "El recall se centra en las instancias positivas y mide la proporción de verdaderos positivos con respecto al total de instancias positivas (verdaderos positivos más falsos negativos). \n",
    "El F1 score es la media armónica de precision y recall. "
   ]
  },
  {
   "cell_type": "code",
   "execution_count": 24,
   "id": "1c054f0c",
   "metadata": {
    "id": "1c054f0c",
    "outputId": "a6bcc3f0-3bf1-4cd8-cb0a-5569638be23d"
   },
   "outputs": [
    {
     "name": "stdout",
     "output_type": "stream",
     "text": [
      "Accuracy: 66.10%\n",
      "Precision: 72.04%\n",
      "Recall: 80.57%\n",
      "F1 score: 76.07%\n"
     ]
    }
   ],
   "source": [
    "print(f\"Accuracy: {accuracy_score(y_test, predicciones_cla)*100 :.2f}%\")\n",
    "print(f\"Precision: {precision_score(y_test, predicciones_cla)*100 :.2f}%\")\n",
    "print(f\"Recall: {recall_score(y_test, predicciones_cla)*100 :.2f}%\")\n",
    "print(f\"F1 score: {f1_score(y_test, predicciones_cla)*100 :.2f}%\")"
   ]
  },
  {
   "cell_type": "markdown",
   "id": "61f83e1f-956d-49ef-b736-3559fff4c781",
   "metadata": {},
   "source": [
    "Los resultados sugieren que el modelo tiene un rendimiento moderado. La Accuracy es relativamente baja, la precisión del 72.04% indica que cuando el modelo predice la clase positiva, tiene una tasa razonable de aciertos. El recall del 80.57% sugiere que el modelo es efectivo para capturar la mayoría de las instancias positivas en el conjunto de datos. El F1 score del 76.07% proporciona una medida combinada de precisión y recall"
   ]
  },
  {
   "cell_type": "markdown",
   "id": "a6f4a468",
   "metadata": {
    "id": "a6f4a468"
   },
   "source": [
    "***5.2. Segunda Prueba***"
   ]
  },
  {
   "cell_type": "markdown",
   "id": "4fad662a",
   "metadata": {},
   "source": [
    "Se busca a través del modelo KNN sin las variables (['EquipajeExtra','ReservaCompleta','ClientePotencial','HorarioDelVuelo','HorarioDelVuelo']) desarrollar la perfomance mas eficiente para desarrollar nuestro algoritmo de maching learning. "
   ]
  },
  {
   "cell_type": "code",
   "execution_count": 25,
   "id": "a44dfefe",
   "metadata": {
    "id": "a44dfefe",
    "tags": []
   },
   "outputs": [],
   "source": [
    "knn = KNeighborsClassifier()"
   ]
  },
  {
   "cell_type": "markdown",
   "id": "23257814-f02b-4493-8e0a-72cba774da79",
   "metadata": {
    "tags": []
   },
   "source": [
    "* Entrenamos el modelo"
   ]
  },
  {
   "cell_type": "code",
   "execution_count": 26,
   "id": "40a060de",
   "metadata": {
    "id": "40a060de",
    "outputId": "33a63012-3766-49a1-f6f7-e114b40657c7",
    "tags": []
   },
   "outputs": [
    {
     "data": {
      "text/html": [
       "<style>#sk-container-id-2 {color: black;}#sk-container-id-2 pre{padding: 0;}#sk-container-id-2 div.sk-toggleable {background-color: white;}#sk-container-id-2 label.sk-toggleable__label {cursor: pointer;display: block;width: 100%;margin-bottom: 0;padding: 0.3em;box-sizing: border-box;text-align: center;}#sk-container-id-2 label.sk-toggleable__label-arrow:before {content: \"▸\";float: left;margin-right: 0.25em;color: #696969;}#sk-container-id-2 label.sk-toggleable__label-arrow:hover:before {color: black;}#sk-container-id-2 div.sk-estimator:hover label.sk-toggleable__label-arrow:before {color: black;}#sk-container-id-2 div.sk-toggleable__content {max-height: 0;max-width: 0;overflow: hidden;text-align: left;background-color: #f0f8ff;}#sk-container-id-2 div.sk-toggleable__content pre {margin: 0.2em;color: black;border-radius: 0.25em;background-color: #f0f8ff;}#sk-container-id-2 input.sk-toggleable__control:checked~div.sk-toggleable__content {max-height: 200px;max-width: 100%;overflow: auto;}#sk-container-id-2 input.sk-toggleable__control:checked~label.sk-toggleable__label-arrow:before {content: \"▾\";}#sk-container-id-2 div.sk-estimator input.sk-toggleable__control:checked~label.sk-toggleable__label {background-color: #d4ebff;}#sk-container-id-2 div.sk-label input.sk-toggleable__control:checked~label.sk-toggleable__label {background-color: #d4ebff;}#sk-container-id-2 input.sk-hidden--visually {border: 0;clip: rect(1px 1px 1px 1px);clip: rect(1px, 1px, 1px, 1px);height: 1px;margin: -1px;overflow: hidden;padding: 0;position: absolute;width: 1px;}#sk-container-id-2 div.sk-estimator {font-family: monospace;background-color: #f0f8ff;border: 1px dotted black;border-radius: 0.25em;box-sizing: border-box;margin-bottom: 0.5em;}#sk-container-id-2 div.sk-estimator:hover {background-color: #d4ebff;}#sk-container-id-2 div.sk-parallel-item::after {content: \"\";width: 100%;border-bottom: 1px solid gray;flex-grow: 1;}#sk-container-id-2 div.sk-label:hover label.sk-toggleable__label {background-color: #d4ebff;}#sk-container-id-2 div.sk-serial::before {content: \"\";position: absolute;border-left: 1px solid gray;box-sizing: border-box;top: 0;bottom: 0;left: 50%;z-index: 0;}#sk-container-id-2 div.sk-serial {display: flex;flex-direction: column;align-items: center;background-color: white;padding-right: 0.2em;padding-left: 0.2em;position: relative;}#sk-container-id-2 div.sk-item {position: relative;z-index: 1;}#sk-container-id-2 div.sk-parallel {display: flex;align-items: stretch;justify-content: center;background-color: white;position: relative;}#sk-container-id-2 div.sk-item::before, #sk-container-id-2 div.sk-parallel-item::before {content: \"\";position: absolute;border-left: 1px solid gray;box-sizing: border-box;top: 0;bottom: 0;left: 50%;z-index: -1;}#sk-container-id-2 div.sk-parallel-item {display: flex;flex-direction: column;z-index: 1;position: relative;background-color: white;}#sk-container-id-2 div.sk-parallel-item:first-child::after {align-self: flex-end;width: 50%;}#sk-container-id-2 div.sk-parallel-item:last-child::after {align-self: flex-start;width: 50%;}#sk-container-id-2 div.sk-parallel-item:only-child::after {width: 0;}#sk-container-id-2 div.sk-dashed-wrapped {border: 1px dashed gray;margin: 0 0.4em 0.5em 0.4em;box-sizing: border-box;padding-bottom: 0.4em;background-color: white;}#sk-container-id-2 div.sk-label label {font-family: monospace;font-weight: bold;display: inline-block;line-height: 1.2em;}#sk-container-id-2 div.sk-label-container {text-align: center;}#sk-container-id-2 div.sk-container {/* jupyter's `normalize.less` sets `[hidden] { display: none; }` but bootstrap.min.css set `[hidden] { display: none !important; }` so we also need the `!important` here to be able to override the default hidden behavior on the sphinx rendered scikit-learn.org. See: https://github.com/scikit-learn/scikit-learn/issues/21755 */display: inline-block !important;position: relative;}#sk-container-id-2 div.sk-text-repr-fallback {display: none;}</style><div id=\"sk-container-id-2\" class=\"sk-top-container\"><div class=\"sk-text-repr-fallback\"><pre>KNeighborsClassifier()</pre><b>In a Jupyter environment, please rerun this cell to show the HTML representation or trust the notebook. <br />On GitHub, the HTML representation is unable to render, please try loading this page with nbviewer.org.</b></div><div class=\"sk-container\" hidden><div class=\"sk-item\"><div class=\"sk-estimator sk-toggleable\"><input class=\"sk-toggleable__control sk-hidden--visually\" id=\"sk-estimator-id-2\" type=\"checkbox\" checked><label for=\"sk-estimator-id-2\" class=\"sk-toggleable__label sk-toggleable__label-arrow\">KNeighborsClassifier</label><div class=\"sk-toggleable__content\"><pre>KNeighborsClassifier()</pre></div></div></div></div></div>"
      ],
      "text/plain": [
       "KNeighborsClassifier()"
      ]
     },
     "execution_count": 26,
     "metadata": {},
     "output_type": "execute_result"
    }
   ],
   "source": [
    "knn.fit(X2_train, y_train)"
   ]
  },
  {
   "cell_type": "markdown",
   "id": "c9d08280",
   "metadata": {
    "id": "c9d08280"
   },
   "source": [
    "* Predecimos"
   ]
  },
  {
   "cell_type": "code",
   "execution_count": 27,
   "id": "45d5de23",
   "metadata": {
    "id": "45d5de23"
   },
   "outputs": [],
   "source": [
    "predicciones_cla2 = knn.predict(X2_test)"
   ]
  },
  {
   "cell_type": "markdown",
   "id": "0bf0f66d-8226-44a4-a6a4-4efe187f2b35",
   "metadata": {},
   "source": [
    "* Graficamos\n"
   ]
  },
  {
   "cell_type": "code",
   "execution_count": 28,
   "id": "ebe82eb9",
   "metadata": {
    "id": "ebe82eb9",
    "outputId": "445e9e1d-40e6-4f7f-b162-a689155ff9da"
   },
   "outputs": [
    {
     "data": {
      "image/png": "[encoded data removed]",
      "text/plain": [
       "<Figure size 640x480 with 2 Axes>"
      ]
     },
     "metadata": {},
     "output_type": "display_data"
    }
   ],
   "source": [
    "plt.figure()\n",
    "random_confusion = confusion_matrix(y_test, predicciones_cla2)\n",
    "sns.heatmap(random_confusion, cmap=\"YlGnBu\",annot=True);"
   ]
  },
  {
   "cell_type": "markdown",
   "id": "3f5c0d43-3c40-42af-8d39-c32c7ca571b8",
   "metadata": {},
   "source": [
    "* Métricas"
   ]
  },
  {
   "cell_type": "code",
   "execution_count": 29,
   "id": "bfa00619",
   "metadata": {
    "id": "bfa00619",
    "outputId": "d0aa36cf-e165-4d73-8da9-dd34f92f60bd"
   },
   "outputs": [
    {
     "name": "stdout",
     "output_type": "stream",
     "text": [
      "Accuracy: 68.43%\n",
      "Precision: 74.43%\n",
      "Recall: 80.42%\n",
      "F1 score: 77.31%\n"
     ]
    }
   ],
   "source": [
    "print(f\"Accuracy: {accuracy_score(y_test, predicciones_cla2)*100 :.2f}%\")\n",
    "print(f\"Precision: {precision_score(y_test, predicciones_cla2)*100 :.2f}%\")\n",
    "print(f\"Recall: {recall_score(y_test, predicciones_cla2)*100 :.2f}%\")\n",
    "print(f\"F1 score: {f1_score(y_test, predicciones_cla2)*100 :.2f}%\")"
   ]
  },
  {
   "cell_type": "markdown",
   "id": "6ded3844-d7cf-4cbf-9e89-94e1934ca8b7",
   "metadata": {},
   "source": [
    "En general, estos resultados sugieren un buen rendimiento del modelo. La precisión, el recall y el F1 score son todos relativamente altos, indicando un buen equilibrio entre la capacidad del modelo para predecir correctamente ambas clases.\n",
    "Aumenta la Accuracy, que es la proporción de predicciones correctas en general."
   ]
  },
  {
   "cell_type": "markdown",
   "id": "b4023fe0",
   "metadata": {
    "id": "b4023fe0"
   },
   "source": [
    "***6. Optimización de los parámetros del clasificador KNN con Gridsearch***"
   ]
  },
  {
   "cell_type": "markdown",
   "id": "76a36629-9e0f-4cf3-8f82-f76a801b0d53",
   "metadata": {},
   "source": [
    "Se buscan diferentes valores para el número de vecinos (n) y se evalua el rendimiento del modelo KNN en conjuntos de entrenamiento y prueba. Buscamos encontrar el número óptimo de vecinos que maximiza el rendimiento del modelo."
   ]
  },
  {
   "cell_type": "markdown",
   "id": "2c633a79",
   "metadata": {
    "id": "2c633a79"
   },
   "source": [
    "* Target X"
   ]
  },
  {
   "cell_type": "code",
   "execution_count": 30,
   "id": "55799543",
   "metadata": {
    "id": "55799543",
    "tags": []
   },
   "outputs": [],
   "source": [
    "ACC_train = []\n",
    "ACC_test = []\n",
    "\n",
    "vecinos = [1, 3, 5, 10, 15, 20, 27, 50,55,59,67]\n",
    "for n in vecinos:\n",
    "\n",
    "    clf = KNeighborsClassifier(n_neighbors=n)\n",
    "\n",
    "    clf.fit(X_train, y_train)\n",
    "    y_train_pred = clf.predict(X_train)\n",
    "\n",
    "    train_acc = accuracy_score(y_train, y_train_pred)\n",
    "    ACC_train.append(train_acc)\n",
    "\n",
    "    y_test_pred = clf.predict(X_test)\n",
    "    test_acc = accuracy_score(y_test, y_test_pred)\n",
    "    ACC_test.append(test_acc)"
   ]
  },
  {
   "cell_type": "markdown",
   "id": "ca83c252",
   "metadata": {},
   "source": [
    "El siguiente gráfico nos puede ayudar a identificar si hay un número de vecinos que optimice la presición del modelo. "
   ]
  },
  {
   "cell_type": "code",
   "execution_count": 31,
   "id": "c441022a",
   "metadata": {
    "id": "c441022a",
    "outputId": "18b91bb6-6fcc-4a39-b606-3117971c926b"
   },
   "outputs": [
    {
     "data": {
      "image/png": "[encoded data removed]",
      "text/plain": [
       "<Figure size 640x480 with 1 Axes>"
      ]
     },
     "metadata": {},
     "output_type": "display_data"
    }
   ],
   "source": [
    "plt.plot(vecinos,ACC_train,'o-',label='train', color='#DCE775')\n",
    "plt.plot(vecinos,ACC_test,'o-',label='test', color='#EC407A')\n",
    "plt.legend()\n",
    "sns.despine();"
   ]
  },
  {
   "cell_type": "markdown",
   "id": "bfa8ed8c-0d72-4c89-b6c8-285956c78c4b",
   "metadata": {},
   "source": [
    "Muestra cómo varía la Accuracy en los conjuntos de entrenamiento y prueba a medida que cambia el número de vecinos"
   ]
  },
  {
   "cell_type": "markdown",
   "id": "5219e6ef",
   "metadata": {},
   "source": [
    "* Establecemos los parámetros"
   ]
  },
  {
   "cell_type": "code",
   "execution_count": 32,
   "id": "a00c7e39",
   "metadata": {
    "id": "a00c7e39",
    "tags": []
   },
   "outputs": [],
   "source": [
    "param_grid_vec = {\n",
    "    'n_neighbors': [18, 20, 22],\n",
    "    'weights': ['uniform','distance'],\n",
    "    'metric': ['euclidean', 'manhattan'],\n",
    "}"
   ]
  },
  {
   "cell_type": "markdown",
   "id": "3c27bcf9",
   "metadata": {},
   "source": [
    "* Entrenamos le modelo"
   ]
  },
  {
   "cell_type": "code",
   "execution_count": 33,
   "id": "d3e03417",
   "metadata": {
    "id": "d3e03417"
   },
   "outputs": [],
   "source": [
    "knn_search = KNeighborsClassifier()"
   ]
  },
  {
   "cell_type": "code",
   "execution_count": 34,
   "id": "75a2e22b",
   "metadata": {
    "id": "75a2e22b"
   },
   "outputs": [],
   "source": [
    "vecinos_search = GridSearchCV(estimator=knn_search, param_grid=param_grid_vec,\n",
    "                         cv=3, verbose=2, n_jobs=-1)"
   ]
  },
  {
   "cell_type": "code",
   "execution_count": 35,
   "id": "b945fdee",
   "metadata": {
    "id": "b945fdee",
    "outputId": "4e59bcbd-ba09-45e4-b494-b282243d8871"
   },
   "outputs": [
    {
     "name": "stdout",
     "output_type": "stream",
     "text": [
      "Fitting 3 folds for each of 12 candidates, totalling 36 fits\n"
     ]
    },
    {
     "data": {
      "text/html": [
       "<style>#sk-container-id-3 {color: black;}#sk-container-id-3 pre{padding: 0;}#sk-container-id-3 div.sk-toggleable {background-color: white;}#sk-container-id-3 label.sk-toggleable__label {cursor: pointer;display: block;width: 100%;margin-bottom: 0;padding: 0.3em;box-sizing: border-box;text-align: center;}#sk-container-id-3 label.sk-toggleable__label-arrow:before {content: \"▸\";float: left;margin-right: 0.25em;color: #696969;}#sk-container-id-3 label.sk-toggleable__label-arrow:hover:before {color: black;}#sk-container-id-3 div.sk-estimator:hover label.sk-toggleable__label-arrow:before {color: black;}#sk-container-id-3 div.sk-toggleable__content {max-height: 0;max-width: 0;overflow: hidden;text-align: left;background-color: #f0f8ff;}#sk-container-id-3 div.sk-toggleable__content pre {margin: 0.2em;color: black;border-radius: 0.25em;background-color: #f0f8ff;}#sk-container-id-3 input.sk-toggleable__control:checked~div.sk-toggleable__content {max-height: 200px;max-width: 100%;overflow: auto;}#sk-container-id-3 input.sk-toggleable__control:checked~label.sk-toggleable__label-arrow:before {content: \"▾\";}#sk-container-id-3 div.sk-estimator input.sk-toggleable__control:checked~label.sk-toggleable__label {background-color: #d4ebff;}#sk-container-id-3 div.sk-label input.sk-toggleable__control:checked~label.sk-toggleable__label {background-color: #d4ebff;}#sk-container-id-3 input.sk-hidden--visually {border: 0;clip: rect(1px 1px 1px 1px);clip: rect(1px, 1px, 1px, 1px);height: 1px;margin: -1px;overflow: hidden;padding: 0;position: absolute;width: 1px;}#sk-container-id-3 div.sk-estimator {font-family: monospace;background-color: #f0f8ff;border: 1px dotted black;border-radius: 0.25em;box-sizing: border-box;margin-bottom: 0.5em;}#sk-container-id-3 div.sk-estimator:hover {background-color: #d4ebff;}#sk-container-id-3 div.sk-parallel-item::after {content: \"\";width: 100%;border-bottom: 1px solid gray;flex-grow: 1;}#sk-container-id-3 div.sk-label:hover label.sk-toggleable__label {background-color: #d4ebff;}#sk-container-id-3 div.sk-serial::before {content: \"\";position: absolute;border-left: 1px solid gray;box-sizing: border-box;top: 0;bottom: 0;left: 50%;z-index: 0;}#sk-container-id-3 div.sk-serial {display: flex;flex-direction: column;align-items: center;background-color: white;padding-right: 0.2em;padding-left: 0.2em;position: relative;}#sk-container-id-3 div.sk-item {position: relative;z-index: 1;}#sk-container-id-3 div.sk-parallel {display: flex;align-items: stretch;justify-content: center;background-color: white;position: relative;}#sk-container-id-3 div.sk-item::before, #sk-container-id-3 div.sk-parallel-item::before {content: \"\";position: absolute;border-left: 1px solid gray;box-sizing: border-box;top: 0;bottom: 0;left: 50%;z-index: -1;}#sk-container-id-3 div.sk-parallel-item {display: flex;flex-direction: column;z-index: 1;position: relative;background-color: white;}#sk-container-id-3 div.sk-parallel-item:first-child::after {align-self: flex-end;width: 50%;}#sk-container-id-3 div.sk-parallel-item:last-child::after {align-self: flex-start;width: 50%;}#sk-container-id-3 div.sk-parallel-item:only-child::after {width: 0;}#sk-container-id-3 div.sk-dashed-wrapped {border: 1px dashed gray;margin: 0 0.4em 0.5em 0.4em;box-sizing: border-box;padding-bottom: 0.4em;background-color: white;}#sk-container-id-3 div.sk-label label {font-family: monospace;font-weight: bold;display: inline-block;line-height: 1.2em;}#sk-container-id-3 div.sk-label-container {text-align: center;}#sk-container-id-3 div.sk-container {/* jupyter's `normalize.less` sets `[hidden] { display: none; }` but bootstrap.min.css set `[hidden] { display: none !important; }` so we also need the `!important` here to be able to override the default hidden behavior on the sphinx rendered scikit-learn.org. See: https://github.com/scikit-learn/scikit-learn/issues/21755 */display: inline-block !important;position: relative;}#sk-container-id-3 div.sk-text-repr-fallback {display: none;}</style><div id=\"sk-container-id-3\" class=\"sk-top-container\"><div class=\"sk-text-repr-fallback\"><pre>GridSearchCV(cv=3, estimator=KNeighborsClassifier(), n_jobs=-1,\n",
       "             param_grid={&#x27;metric&#x27;: [&#x27;euclidean&#x27;, &#x27;manhattan&#x27;],\n",
       "                         &#x27;n_neighbors&#x27;: [18, 20, 22],\n",
       "                         &#x27;weights&#x27;: [&#x27;uniform&#x27;, &#x27;distance&#x27;]},\n",
       "             verbose=2)</pre><b>In a Jupyter environment, please rerun this cell to show the HTML representation or trust the notebook. <br />On GitHub, the HTML representation is unable to render, please try loading this page with nbviewer.org.</b></div><div class=\"sk-container\" hidden><div class=\"sk-item sk-dashed-wrapped\"><div class=\"sk-label-container\"><div class=\"sk-label sk-toggleable\"><input class=\"sk-toggleable__control sk-hidden--visually\" id=\"sk-estimator-id-3\" type=\"checkbox\" ><label for=\"sk-estimator-id-3\" class=\"sk-toggleable__label sk-toggleable__label-arrow\">GridSearchCV</label><div class=\"sk-toggleable__content\"><pre>GridSearchCV(cv=3, estimator=KNeighborsClassifier(), n_jobs=-1,\n",
       "             param_grid={&#x27;metric&#x27;: [&#x27;euclidean&#x27;, &#x27;manhattan&#x27;],\n",
       "                         &#x27;n_neighbors&#x27;: [18, 20, 22],\n",
       "                         &#x27;weights&#x27;: [&#x27;uniform&#x27;, &#x27;distance&#x27;]},\n",
       "             verbose=2)</pre></div></div></div><div class=\"sk-parallel\"><div class=\"sk-parallel-item\"><div class=\"sk-item\"><div class=\"sk-label-container\"><div class=\"sk-label sk-toggleable\"><input class=\"sk-toggleable__control sk-hidden--visually\" id=\"sk-estimator-id-4\" type=\"checkbox\" ><label for=\"sk-estimator-id-4\" class=\"sk-toggleable__label sk-toggleable__label-arrow\">estimator: KNeighborsClassifier</label><div class=\"sk-toggleable__content\"><pre>KNeighborsClassifier()</pre></div></div></div><div class=\"sk-serial\"><div class=\"sk-item\"><div class=\"sk-estimator sk-toggleable\"><input class=\"sk-toggleable__control sk-hidden--visually\" id=\"sk-estimator-id-5\" type=\"checkbox\" ><label for=\"sk-estimator-id-5\" class=\"sk-toggleable__label sk-toggleable__label-arrow\">KNeighborsClassifier</label><div class=\"sk-toggleable__content\"><pre>KNeighborsClassifier()</pre></div></div></div></div></div></div></div></div></div></div>"
      ],
      "text/plain": [
       "GridSearchCV(cv=3, estimator=KNeighborsClassifier(), n_jobs=-1,\n",
       "             param_grid={'metric': ['euclidean', 'manhattan'],\n",
       "                         'n_neighbors': [18, 20, 22],\n",
       "                         'weights': ['uniform', 'distance']},\n",
       "             verbose=2)"
      ]
     },
     "execution_count": 35,
     "metadata": {},
     "output_type": "execute_result"
    }
   ],
   "source": [
    "vecinos_search.fit(X_train, y_train)"
   ]
  },
  {
   "cell_type": "markdown",
   "id": "235f7bb1",
   "metadata": {
    "id": "235f7bb1"
   },
   "source": [
    "***6.1.¿Cuál es nuestro mejor estimador?***"
   ]
  },
  {
   "cell_type": "markdown",
   "id": "799d6788-ae57-49b7-a813-7415ef99859e",
   "metadata": {},
   "source": [
    "Buscamos los mejores parámetros, para buscar el mejor puntaje (best_score_). \n",
    "Best_score_ da el mejor rendimiento promedio en términos de la métrica de evaluación especificada durante la validación cruzada.\n"
   ]
  },
  {
   "cell_type": "code",
   "execution_count": 36,
   "id": "13c8b492",
   "metadata": {
    "id": "13c8b492",
    "outputId": "dc087400-a156-4ec4-85cd-4fa738c21098"
   },
   "outputs": [
    {
     "data": {
      "text/html": [
       "<style>#sk-container-id-4 {color: black;}#sk-container-id-4 pre{padding: 0;}#sk-container-id-4 div.sk-toggleable {background-color: white;}#sk-container-id-4 label.sk-toggleable__label {cursor: pointer;display: block;width: 100%;margin-bottom: 0;padding: 0.3em;box-sizing: border-box;text-align: center;}#sk-container-id-4 label.sk-toggleable__label-arrow:before {content: \"▸\";float: left;margin-right: 0.25em;color: #696969;}#sk-container-id-4 label.sk-toggleable__label-arrow:hover:before {color: black;}#sk-container-id-4 div.sk-estimator:hover label.sk-toggleable__label-arrow:before {color: black;}#sk-container-id-4 div.sk-toggleable__content {max-height: 0;max-width: 0;overflow: hidden;text-align: left;background-color: #f0f8ff;}#sk-container-id-4 div.sk-toggleable__content pre {margin: 0.2em;color: black;border-radius: 0.25em;background-color: #f0f8ff;}#sk-container-id-4 input.sk-toggleable__control:checked~div.sk-toggleable__content {max-height: 200px;max-width: 100%;overflow: auto;}#sk-container-id-4 input.sk-toggleable__control:checked~label.sk-toggleable__label-arrow:before {content: \"▾\";}#sk-container-id-4 div.sk-estimator input.sk-toggleable__control:checked~label.sk-toggleable__label {background-color: #d4ebff;}#sk-container-id-4 div.sk-label input.sk-toggleable__control:checked~label.sk-toggleable__label {background-color: #d4ebff;}#sk-container-id-4 input.sk-hidden--visually {border: 0;clip: rect(1px 1px 1px 1px);clip: rect(1px, 1px, 1px, 1px);height: 1px;margin: -1px;overflow: hidden;padding: 0;position: absolute;width: 1px;}#sk-container-id-4 div.sk-estimator {font-family: monospace;background-color: #f0f8ff;border: 1px dotted black;border-radius: 0.25em;box-sizing: border-box;margin-bottom: 0.5em;}#sk-container-id-4 div.sk-estimator:hover {background-color: #d4ebff;}#sk-container-id-4 div.sk-parallel-item::after {content: \"\";width: 100%;border-bottom: 1px solid gray;flex-grow: 1;}#sk-container-id-4 div.sk-label:hover label.sk-toggleable__label {background-color: #d4ebff;}#sk-container-id-4 div.sk-serial::before {content: \"\";position: absolute;border-left: 1px solid gray;box-sizing: border-box;top: 0;bottom: 0;left: 50%;z-index: 0;}#sk-container-id-4 div.sk-serial {display: flex;flex-direction: column;align-items: center;background-color: white;padding-right: 0.2em;padding-left: 0.2em;position: relative;}#sk-container-id-4 div.sk-item {position: relative;z-index: 1;}#sk-container-id-4 div.sk-parallel {display: flex;align-items: stretch;justify-content: center;background-color: white;position: relative;}#sk-container-id-4 div.sk-item::before, #sk-container-id-4 div.sk-parallel-item::before {content: \"\";position: absolute;border-left: 1px solid gray;box-sizing: border-box;top: 0;bottom: 0;left: 50%;z-index: -1;}#sk-container-id-4 div.sk-parallel-item {display: flex;flex-direction: column;z-index: 1;position: relative;background-color: white;}#sk-container-id-4 div.sk-parallel-item:first-child::after {align-self: flex-end;width: 50%;}#sk-container-id-4 div.sk-parallel-item:last-child::after {align-self: flex-start;width: 50%;}#sk-container-id-4 div.sk-parallel-item:only-child::after {width: 0;}#sk-container-id-4 div.sk-dashed-wrapped {border: 1px dashed gray;margin: 0 0.4em 0.5em 0.4em;box-sizing: border-box;padding-bottom: 0.4em;background-color: white;}#sk-container-id-4 div.sk-label label {font-family: monospace;font-weight: bold;display: inline-block;line-height: 1.2em;}#sk-container-id-4 div.sk-label-container {text-align: center;}#sk-container-id-4 div.sk-container {/* jupyter's `normalize.less` sets `[hidden] { display: none; }` but bootstrap.min.css set `[hidden] { display: none !important; }` so we also need the `!important` here to be able to override the default hidden behavior on the sphinx rendered scikit-learn.org. See: https://github.com/scikit-learn/scikit-learn/issues/21755 */display: inline-block !important;position: relative;}#sk-container-id-4 div.sk-text-repr-fallback {display: none;}</style><div id=\"sk-container-id-4\" class=\"sk-top-container\"><div class=\"sk-text-repr-fallback\"><pre>KNeighborsClassifier(metric=&#x27;manhattan&#x27;, n_neighbors=20, weights=&#x27;distance&#x27;)</pre><b>In a Jupyter environment, please rerun this cell to show the HTML representation or trust the notebook. <br />On GitHub, the HTML representation is unable to render, please try loading this page with nbviewer.org.</b></div><div class=\"sk-container\" hidden><div class=\"sk-item\"><div class=\"sk-estimator sk-toggleable\"><input class=\"sk-toggleable__control sk-hidden--visually\" id=\"sk-estimator-id-6\" type=\"checkbox\" checked><label for=\"sk-estimator-id-6\" class=\"sk-toggleable__label sk-toggleable__label-arrow\">KNeighborsClassifier</label><div class=\"sk-toggleable__content\"><pre>KNeighborsClassifier(metric=&#x27;manhattan&#x27;, n_neighbors=20, weights=&#x27;distance&#x27;)</pre></div></div></div></div></div>"
      ],
      "text/plain": [
       "KNeighborsClassifier(metric='manhattan', n_neighbors=20, weights='distance')"
      ]
     },
     "execution_count": 36,
     "metadata": {},
     "output_type": "execute_result"
    }
   ],
   "source": [
    "vecinos_search.best_estimator_"
   ]
  },
  {
   "cell_type": "code",
   "execution_count": 37,
   "id": "beec2452",
   "metadata": {
    "id": "beec2452",
    "outputId": "48187fac-b642-4e84-b332-72f34e0565b2"
   },
   "outputs": [
    {
     "data": {
      "text/plain": [
       "0.683907920031884"
      ]
     },
     "execution_count": 37,
     "metadata": {},
     "output_type": "execute_result"
    }
   ],
   "source": [
    "vecinos_search.best_score_"
   ]
  },
  {
   "cell_type": "code",
   "execution_count": 38,
   "id": "db4c13de",
   "metadata": {
    "id": "db4c13de"
   },
   "outputs": [],
   "source": [
    "knn_best = vecinos_search.best_estimator_"
   ]
  },
  {
   "cell_type": "markdown",
   "id": "e170bc43-a8bb-4974-8010-1811ffff339f",
   "metadata": {},
   "source": [
    "Evaluamos la precisión de las predicciones en comparación con las etiquetas reales del conjunto de prueba."
   ]
  },
  {
   "cell_type": "code",
   "execution_count": 39,
   "id": "b21565b6",
   "metadata": {
    "id": "b21565b6",
    "outputId": "ebb2885f-db0c-427e-906d-d3e8d43ead42"
   },
   "outputs": [
    {
     "data": {
      "text/html": [
       "<style>#sk-container-id-5 {color: black;}#sk-container-id-5 pre{padding: 0;}#sk-container-id-5 div.sk-toggleable {background-color: white;}#sk-container-id-5 label.sk-toggleable__label {cursor: pointer;display: block;width: 100%;margin-bottom: 0;padding: 0.3em;box-sizing: border-box;text-align: center;}#sk-container-id-5 label.sk-toggleable__label-arrow:before {content: \"▸\";float: left;margin-right: 0.25em;color: #696969;}#sk-container-id-5 label.sk-toggleable__label-arrow:hover:before {color: black;}#sk-container-id-5 div.sk-estimator:hover label.sk-toggleable__label-arrow:before {color: black;}#sk-container-id-5 div.sk-toggleable__content {max-height: 0;max-width: 0;overflow: hidden;text-align: left;background-color: #f0f8ff;}#sk-container-id-5 div.sk-toggleable__content pre {margin: 0.2em;color: black;border-radius: 0.25em;background-color: #f0f8ff;}#sk-container-id-5 input.sk-toggleable__control:checked~div.sk-toggleable__content {max-height: 200px;max-width: 100%;overflow: auto;}#sk-container-id-5 input.sk-toggleable__control:checked~label.sk-toggleable__label-arrow:before {content: \"▾\";}#sk-container-id-5 div.sk-estimator input.sk-toggleable__control:checked~label.sk-toggleable__label {background-color: #d4ebff;}#sk-container-id-5 div.sk-label input.sk-toggleable__control:checked~label.sk-toggleable__label {background-color: #d4ebff;}#sk-container-id-5 input.sk-hidden--visually {border: 0;clip: rect(1px 1px 1px 1px);clip: rect(1px, 1px, 1px, 1px);height: 1px;margin: -1px;overflow: hidden;padding: 0;position: absolute;width: 1px;}#sk-container-id-5 div.sk-estimator {font-family: monospace;background-color: #f0f8ff;border: 1px dotted black;border-radius: 0.25em;box-sizing: border-box;margin-bottom: 0.5em;}#sk-container-id-5 div.sk-estimator:hover {background-color: #d4ebff;}#sk-container-id-5 div.sk-parallel-item::after {content: \"\";width: 100%;border-bottom: 1px solid gray;flex-grow: 1;}#sk-container-id-5 div.sk-label:hover label.sk-toggleable__label {background-color: #d4ebff;}#sk-container-id-5 div.sk-serial::before {content: \"\";position: absolute;border-left: 1px solid gray;box-sizing: border-box;top: 0;bottom: 0;left: 50%;z-index: 0;}#sk-container-id-5 div.sk-serial {display: flex;flex-direction: column;align-items: center;background-color: white;padding-right: 0.2em;padding-left: 0.2em;position: relative;}#sk-container-id-5 div.sk-item {position: relative;z-index: 1;}#sk-container-id-5 div.sk-parallel {display: flex;align-items: stretch;justify-content: center;background-color: white;position: relative;}#sk-container-id-5 div.sk-item::before, #sk-container-id-5 div.sk-parallel-item::before {content: \"\";position: absolute;border-left: 1px solid gray;box-sizing: border-box;top: 0;bottom: 0;left: 50%;z-index: -1;}#sk-container-id-5 div.sk-parallel-item {display: flex;flex-direction: column;z-index: 1;position: relative;background-color: white;}#sk-container-id-5 div.sk-parallel-item:first-child::after {align-self: flex-end;width: 50%;}#sk-container-id-5 div.sk-parallel-item:last-child::after {align-self: flex-start;width: 50%;}#sk-container-id-5 div.sk-parallel-item:only-child::after {width: 0;}#sk-container-id-5 div.sk-dashed-wrapped {border: 1px dashed gray;margin: 0 0.4em 0.5em 0.4em;box-sizing: border-box;padding-bottom: 0.4em;background-color: white;}#sk-container-id-5 div.sk-label label {font-family: monospace;font-weight: bold;display: inline-block;line-height: 1.2em;}#sk-container-id-5 div.sk-label-container {text-align: center;}#sk-container-id-5 div.sk-container {/* jupyter's `normalize.less` sets `[hidden] { display: none; }` but bootstrap.min.css set `[hidden] { display: none !important; }` so we also need the `!important` here to be able to override the default hidden behavior on the sphinx rendered scikit-learn.org. See: https://github.com/scikit-learn/scikit-learn/issues/21755 */display: inline-block !important;position: relative;}#sk-container-id-5 div.sk-text-repr-fallback {display: none;}</style><div id=\"sk-container-id-5\" class=\"sk-top-container\"><div class=\"sk-text-repr-fallback\"><pre>KNeighborsClassifier(metric=&#x27;manhattan&#x27;, n_neighbors=20, weights=&#x27;distance&#x27;)</pre><b>In a Jupyter environment, please rerun this cell to show the HTML representation or trust the notebook. <br />On GitHub, the HTML representation is unable to render, please try loading this page with nbviewer.org.</b></div><div class=\"sk-container\" hidden><div class=\"sk-item\"><div class=\"sk-estimator sk-toggleable\"><input class=\"sk-toggleable__control sk-hidden--visually\" id=\"sk-estimator-id-7\" type=\"checkbox\" checked><label for=\"sk-estimator-id-7\" class=\"sk-toggleable__label sk-toggleable__label-arrow\">KNeighborsClassifier</label><div class=\"sk-toggleable__content\"><pre>KNeighborsClassifier(metric=&#x27;manhattan&#x27;, n_neighbors=20, weights=&#x27;distance&#x27;)</pre></div></div></div></div></div>"
      ],
      "text/plain": [
       "KNeighborsClassifier(metric='manhattan', n_neighbors=20, weights='distance')"
      ]
     },
     "execution_count": 39,
     "metadata": {},
     "output_type": "execute_result"
    }
   ],
   "source": [
    "knn_best.fit(X_train, y_train)"
   ]
  },
  {
   "cell_type": "code",
   "execution_count": 40,
   "id": "0923341a",
   "metadata": {
    "id": "0923341a"
   },
   "outputs": [],
   "source": [
    "new_predictions = knn_best.predict(X_test)"
   ]
  },
  {
   "cell_type": "code",
   "execution_count": 41,
   "id": "9aef2695",
   "metadata": {
    "id": "9aef2695",
    "outputId": "d5f6c362-82b9-443b-91cf-8b793814ea72"
   },
   "outputs": [
    {
     "data": {
      "image/png": "[encoded data removed]",
      "text/plain": [
       "<Figure size 640x480 with 2 Axes>"
      ]
     },
     "metadata": {},
     "output_type": "display_data"
    }
   ],
   "source": [
    "plt.figure()\n",
    "random_confusion = confusion_matrix(y_test, new_predictions)\n",
    "sns.heatmap(random_confusion, cmap=\"YlGnBu\",annot=True);"
   ]
  },
  {
   "cell_type": "code",
   "execution_count": 42,
   "id": "78d9e844",
   "metadata": {
    "id": "78d9e844",
    "outputId": "b58616c3-068f-45f3-ab53-708ffe8505d2",
    "tags": []
   },
   "outputs": [
    {
     "name": "stdout",
     "output_type": "stream",
     "text": [
      "Accuracy: 67.90%\n",
      "Precision: 69.88%\n",
      "Recall: 91.40%\n",
      "F1 score: 79.20%\n"
     ]
    }
   ],
   "source": [
    "print(f\"Accuracy: {accuracy_score(y_test, y_test_pred)*100 :.2f}%\")\n",
    "print(f\"Precision: {precision_score(y_test, y_test_pred)*100 :.2f}%\")\n",
    "print(f\"Recall: {recall_score(y_test, y_test_pred)*100 :.2f}%\")\n",
    "print(f\"F1 score: {f1_score(y_test, y_test_pred)*100 :.2f}%\")"
   ]
  },
  {
   "cell_type": "markdown",
   "id": "caef348f",
   "metadata": {
    "id": "caef348f"
   },
   "source": [
    "* Con los parametros de la primer target observamos que el modelo performó mejor que la primera prueba, pero aun así no es tan eficiente ya que el accuracy es del 67.9%"
   ]
  },
  {
   "cell_type": "markdown",
   "id": "13b6057e",
   "metadata": {
    "id": "13b6057e"
   },
   "source": [
    "***6.2. Ahora vamos a optimizar los parameteros del clasificador kNN para la variable target X2***"
   ]
  },
  {
   "cell_type": "code",
   "execution_count": 43,
   "id": "a73538d3",
   "metadata": {
    "id": "a73538d3"
   },
   "outputs": [],
   "source": [
    "ACC2_train = []\n",
    "ACC2_test = []\n",
    "\n",
    "vecinos = [1, 3, 5, 10, 15, 20, 27, 50,55,59,67]\n",
    "for n in vecinos:\n",
    "\n",
    "    clf2 = KNeighborsClassifier(n_neighbors=n)\n",
    "\n",
    "    clf2.fit(X2_train, y_train)\n",
    "    y_train_pred = clf2.predict(X2_train)\n",
    "\n",
    "    train_acc = accuracy_score(y_train, y_train_pred)\n",
    "    ACC2_train.append(train_acc)\n",
    "\n",
    "    y_test_pred = clf2.predict(X2_test)\n",
    "    test_acc = accuracy_score(y_test, y_test_pred)\n",
    "    ACC2_test.append(test_acc)"
   ]
  },
  {
   "cell_type": "markdown",
   "id": "67700e81",
   "metadata": {},
   "source": [
    "El siguiente gráfico nos puede ayudar a identificar si hay un número de vecinos que optimice la presición del modelo. "
   ]
  },
  {
   "cell_type": "code",
   "execution_count": 44,
   "id": "6f2c685e",
   "metadata": {
    "id": "6f2c685e",
    "outputId": "9f3cf8ec-4119-4bc3-f142-296167763336"
   },
   "outputs": [
    {
     "data": {
      "image/png": "[encoded data removed]",
      "text/plain": [
       "<Figure size 640x480 with 1 Axes>"
      ]
     },
     "metadata": {},
     "output_type": "display_data"
    }
   ],
   "source": [
    "plt.plot(vecinos,ACC2_train,'o-',label='train', color='#DCE775')\n",
    "plt.plot(vecinos,ACC2_test,'o-',label='test', color='#EC407A')\n",
    "plt.legend()\n",
    "sns.despine();"
   ]
  },
  {
   "cell_type": "markdown",
   "id": "cac2abf4",
   "metadata": {},
   "source": [
    "* Establecemos los parámetros."
   ]
  },
  {
   "cell_type": "code",
   "execution_count": 45,
   "id": "d55f197b",
   "metadata": {
    "id": "d55f197b"
   },
   "outputs": [],
   "source": [
    "param_grid_vec = {\n",
    "    'n_neighbors': [18, 20, 22],\n",
    "    'weights': ['uniform','distance'],\n",
    "    'metric': ['euclidean', 'manhattan'],\n",
    "}"
   ]
  },
  {
   "cell_type": "markdown",
   "id": "3336def6",
   "metadata": {},
   "source": [
    "* Entrenamos el modelos"
   ]
  },
  {
   "cell_type": "code",
   "execution_count": 46,
   "id": "981c8797",
   "metadata": {
    "id": "981c8797"
   },
   "outputs": [],
   "source": [
    "knn_search = KNeighborsClassifier()"
   ]
  },
  {
   "cell_type": "code",
   "execution_count": 47,
   "id": "3dfe1717",
   "metadata": {
    "id": "3dfe1717"
   },
   "outputs": [],
   "source": [
    "vecinos_search2 = GridSearchCV(estimator=knn_search, param_grid=param_grid_vec,\n",
    "                         cv=3, verbose=2, n_jobs=-1)"
   ]
  },
  {
   "cell_type": "code",
   "execution_count": 48,
   "id": "5c81ec24",
   "metadata": {
    "id": "5c81ec24",
    "outputId": "68bc9c22-da34-4255-ed7a-4a636c96c8aa"
   },
   "outputs": [
    {
     "name": "stdout",
     "output_type": "stream",
     "text": [
      "Fitting 3 folds for each of 12 candidates, totalling 36 fits\n"
     ]
    },
    {
     "data": {
      "text/html": [
       "<style>#sk-container-id-6 {color: black;}#sk-container-id-6 pre{padding: 0;}#sk-container-id-6 div.sk-toggleable {background-color: white;}#sk-container-id-6 label.sk-toggleable__label {cursor: pointer;display: block;width: 100%;margin-bottom: 0;padding: 0.3em;box-sizing: border-box;text-align: center;}#sk-container-id-6 label.sk-toggleable__label-arrow:before {content: \"▸\";float: left;margin-right: 0.25em;color: #696969;}#sk-container-id-6 label.sk-toggleable__label-arrow:hover:before {color: black;}#sk-container-id-6 div.sk-estimator:hover label.sk-toggleable__label-arrow:before {color: black;}#sk-container-id-6 div.sk-toggleable__content {max-height: 0;max-width: 0;overflow: hidden;text-align: left;background-color: #f0f8ff;}#sk-container-id-6 div.sk-toggleable__content pre {margin: 0.2em;color: black;border-radius: 0.25em;background-color: #f0f8ff;}#sk-container-id-6 input.sk-toggleable__control:checked~div.sk-toggleable__content {max-height: 200px;max-width: 100%;overflow: auto;}#sk-container-id-6 input.sk-toggleable__control:checked~label.sk-toggleable__label-arrow:before {content: \"▾\";}#sk-container-id-6 div.sk-estimator input.sk-toggleable__control:checked~label.sk-toggleable__label {background-color: #d4ebff;}#sk-container-id-6 div.sk-label input.sk-toggleable__control:checked~label.sk-toggleable__label {background-color: #d4ebff;}#sk-container-id-6 input.sk-hidden--visually {border: 0;clip: rect(1px 1px 1px 1px);clip: rect(1px, 1px, 1px, 1px);height: 1px;margin: -1px;overflow: hidden;padding: 0;position: absolute;width: 1px;}#sk-container-id-6 div.sk-estimator {font-family: monospace;background-color: #f0f8ff;border: 1px dotted black;border-radius: 0.25em;box-sizing: border-box;margin-bottom: 0.5em;}#sk-container-id-6 div.sk-estimator:hover {background-color: #d4ebff;}#sk-container-id-6 div.sk-parallel-item::after {content: \"\";width: 100%;border-bottom: 1px solid gray;flex-grow: 1;}#sk-container-id-6 div.sk-label:hover label.sk-toggleable__label {background-color: #d4ebff;}#sk-container-id-6 div.sk-serial::before {content: \"\";position: absolute;border-left: 1px solid gray;box-sizing: border-box;top: 0;bottom: 0;left: 50%;z-index: 0;}#sk-container-id-6 div.sk-serial {display: flex;flex-direction: column;align-items: center;background-color: white;padding-right: 0.2em;padding-left: 0.2em;position: relative;}#sk-container-id-6 div.sk-item {position: relative;z-index: 1;}#sk-container-id-6 div.sk-parallel {display: flex;align-items: stretch;justify-content: center;background-color: white;position: relative;}#sk-container-id-6 div.sk-item::before, #sk-container-id-6 div.sk-parallel-item::before {content: \"\";position: absolute;border-left: 1px solid gray;box-sizing: border-box;top: 0;bottom: 0;left: 50%;z-index: -1;}#sk-container-id-6 div.sk-parallel-item {display: flex;flex-direction: column;z-index: 1;position: relative;background-color: white;}#sk-container-id-6 div.sk-parallel-item:first-child::after {align-self: flex-end;width: 50%;}#sk-container-id-6 div.sk-parallel-item:last-child::after {align-self: flex-start;width: 50%;}#sk-container-id-6 div.sk-parallel-item:only-child::after {width: 0;}#sk-container-id-6 div.sk-dashed-wrapped {border: 1px dashed gray;margin: 0 0.4em 0.5em 0.4em;box-sizing: border-box;padding-bottom: 0.4em;background-color: white;}#sk-container-id-6 div.sk-label label {font-family: monospace;font-weight: bold;display: inline-block;line-height: 1.2em;}#sk-container-id-6 div.sk-label-container {text-align: center;}#sk-container-id-6 div.sk-container {/* jupyter's `normalize.less` sets `[hidden] { display: none; }` but bootstrap.min.css set `[hidden] { display: none !important; }` so we also need the `!important` here to be able to override the default hidden behavior on the sphinx rendered scikit-learn.org. See: https://github.com/scikit-learn/scikit-learn/issues/21755 */display: inline-block !important;position: relative;}#sk-container-id-6 div.sk-text-repr-fallback {display: none;}</style><div id=\"sk-container-id-6\" class=\"sk-top-container\"><div class=\"sk-text-repr-fallback\"><pre>GridSearchCV(cv=3, estimator=KNeighborsClassifier(), n_jobs=-1,\n",
       "             param_grid={&#x27;metric&#x27;: [&#x27;euclidean&#x27;, &#x27;manhattan&#x27;],\n",
       "                         &#x27;n_neighbors&#x27;: [18, 20, 22],\n",
       "                         &#x27;weights&#x27;: [&#x27;uniform&#x27;, &#x27;distance&#x27;]},\n",
       "             verbose=2)</pre><b>In a Jupyter environment, please rerun this cell to show the HTML representation or trust the notebook. <br />On GitHub, the HTML representation is unable to render, please try loading this page with nbviewer.org.</b></div><div class=\"sk-container\" hidden><div class=\"sk-item sk-dashed-wrapped\"><div class=\"sk-label-container\"><div class=\"sk-label sk-toggleable\"><input class=\"sk-toggleable__control sk-hidden--visually\" id=\"sk-estimator-id-8\" type=\"checkbox\" ><label for=\"sk-estimator-id-8\" class=\"sk-toggleable__label sk-toggleable__label-arrow\">GridSearchCV</label><div class=\"sk-toggleable__content\"><pre>GridSearchCV(cv=3, estimator=KNeighborsClassifier(), n_jobs=-1,\n",
       "             param_grid={&#x27;metric&#x27;: [&#x27;euclidean&#x27;, &#x27;manhattan&#x27;],\n",
       "                         &#x27;n_neighbors&#x27;: [18, 20, 22],\n",
       "                         &#x27;weights&#x27;: [&#x27;uniform&#x27;, &#x27;distance&#x27;]},\n",
       "             verbose=2)</pre></div></div></div><div class=\"sk-parallel\"><div class=\"sk-parallel-item\"><div class=\"sk-item\"><div class=\"sk-label-container\"><div class=\"sk-label sk-toggleable\"><input class=\"sk-toggleable__control sk-hidden--visually\" id=\"sk-estimator-id-9\" type=\"checkbox\" ><label for=\"sk-estimator-id-9\" class=\"sk-toggleable__label sk-toggleable__label-arrow\">estimator: KNeighborsClassifier</label><div class=\"sk-toggleable__content\"><pre>KNeighborsClassifier()</pre></div></div></div><div class=\"sk-serial\"><div class=\"sk-item\"><div class=\"sk-estimator sk-toggleable\"><input class=\"sk-toggleable__control sk-hidden--visually\" id=\"sk-estimator-id-10\" type=\"checkbox\" ><label for=\"sk-estimator-id-10\" class=\"sk-toggleable__label sk-toggleable__label-arrow\">KNeighborsClassifier</label><div class=\"sk-toggleable__content\"><pre>KNeighborsClassifier()</pre></div></div></div></div></div></div></div></div></div></div>"
      ],
      "text/plain": [
       "GridSearchCV(cv=3, estimator=KNeighborsClassifier(), n_jobs=-1,\n",
       "             param_grid={'metric': ['euclidean', 'manhattan'],\n",
       "                         'n_neighbors': [18, 20, 22],\n",
       "                         'weights': ['uniform', 'distance']},\n",
       "             verbose=2)"
      ]
     },
     "execution_count": 48,
     "metadata": {},
     "output_type": "execute_result"
    }
   ],
   "source": [
    "vecinos_search2.fit(X2_train, y_train)"
   ]
  },
  {
   "cell_type": "code",
   "execution_count": 49,
   "id": "abb5ef39",
   "metadata": {
    "id": "abb5ef39",
    "outputId": "76f8fd35-07aa-40cb-da9b-6ddd053952d8"
   },
   "outputs": [
    {
     "data": {
      "text/html": [
       "<style>#sk-container-id-7 {color: black;}#sk-container-id-7 pre{padding: 0;}#sk-container-id-7 div.sk-toggleable {background-color: white;}#sk-container-id-7 label.sk-toggleable__label {cursor: pointer;display: block;width: 100%;margin-bottom: 0;padding: 0.3em;box-sizing: border-box;text-align: center;}#sk-container-id-7 label.sk-toggleable__label-arrow:before {content: \"▸\";float: left;margin-right: 0.25em;color: #696969;}#sk-container-id-7 label.sk-toggleable__label-arrow:hover:before {color: black;}#sk-container-id-7 div.sk-estimator:hover label.sk-toggleable__label-arrow:before {color: black;}#sk-container-id-7 div.sk-toggleable__content {max-height: 0;max-width: 0;overflow: hidden;text-align: left;background-color: #f0f8ff;}#sk-container-id-7 div.sk-toggleable__content pre {margin: 0.2em;color: black;border-radius: 0.25em;background-color: #f0f8ff;}#sk-container-id-7 input.sk-toggleable__control:checked~div.sk-toggleable__content {max-height: 200px;max-width: 100%;overflow: auto;}#sk-container-id-7 input.sk-toggleable__control:checked~label.sk-toggleable__label-arrow:before {content: \"▾\";}#sk-container-id-7 div.sk-estimator input.sk-toggleable__control:checked~label.sk-toggleable__label {background-color: #d4ebff;}#sk-container-id-7 div.sk-label input.sk-toggleable__control:checked~label.sk-toggleable__label {background-color: #d4ebff;}#sk-container-id-7 input.sk-hidden--visually {border: 0;clip: rect(1px 1px 1px 1px);clip: rect(1px, 1px, 1px, 1px);height: 1px;margin: -1px;overflow: hidden;padding: 0;position: absolute;width: 1px;}#sk-container-id-7 div.sk-estimator {font-family: monospace;background-color: #f0f8ff;border: 1px dotted black;border-radius: 0.25em;box-sizing: border-box;margin-bottom: 0.5em;}#sk-container-id-7 div.sk-estimator:hover {background-color: #d4ebff;}#sk-container-id-7 div.sk-parallel-item::after {content: \"\";width: 100%;border-bottom: 1px solid gray;flex-grow: 1;}#sk-container-id-7 div.sk-label:hover label.sk-toggleable__label {background-color: #d4ebff;}#sk-container-id-7 div.sk-serial::before {content: \"\";position: absolute;border-left: 1px solid gray;box-sizing: border-box;top: 0;bottom: 0;left: 50%;z-index: 0;}#sk-container-id-7 div.sk-serial {display: flex;flex-direction: column;align-items: center;background-color: white;padding-right: 0.2em;padding-left: 0.2em;position: relative;}#sk-container-id-7 div.sk-item {position: relative;z-index: 1;}#sk-container-id-7 div.sk-parallel {display: flex;align-items: stretch;justify-content: center;background-color: white;position: relative;}#sk-container-id-7 div.sk-item::before, #sk-container-id-7 div.sk-parallel-item::before {content: \"\";position: absolute;border-left: 1px solid gray;box-sizing: border-box;top: 0;bottom: 0;left: 50%;z-index: -1;}#sk-container-id-7 div.sk-parallel-item {display: flex;flex-direction: column;z-index: 1;position: relative;background-color: white;}#sk-container-id-7 div.sk-parallel-item:first-child::after {align-self: flex-end;width: 50%;}#sk-container-id-7 div.sk-parallel-item:last-child::after {align-self: flex-start;width: 50%;}#sk-container-id-7 div.sk-parallel-item:only-child::after {width: 0;}#sk-container-id-7 div.sk-dashed-wrapped {border: 1px dashed gray;margin: 0 0.4em 0.5em 0.4em;box-sizing: border-box;padding-bottom: 0.4em;background-color: white;}#sk-container-id-7 div.sk-label label {font-family: monospace;font-weight: bold;display: inline-block;line-height: 1.2em;}#sk-container-id-7 div.sk-label-container {text-align: center;}#sk-container-id-7 div.sk-container {/* jupyter's `normalize.less` sets `[hidden] { display: none; }` but bootstrap.min.css set `[hidden] { display: none !important; }` so we also need the `!important` here to be able to override the default hidden behavior on the sphinx rendered scikit-learn.org. See: https://github.com/scikit-learn/scikit-learn/issues/21755 */display: inline-block !important;position: relative;}#sk-container-id-7 div.sk-text-repr-fallback {display: none;}</style><div id=\"sk-container-id-7\" class=\"sk-top-container\"><div class=\"sk-text-repr-fallback\"><pre>KNeighborsClassifier(metric=&#x27;manhattan&#x27;, n_neighbors=22, weights=&#x27;distance&#x27;)</pre><b>In a Jupyter environment, please rerun this cell to show the HTML representation or trust the notebook. <br />On GitHub, the HTML representation is unable to render, please try loading this page with nbviewer.org.</b></div><div class=\"sk-container\" hidden><div class=\"sk-item\"><div class=\"sk-estimator sk-toggleable\"><input class=\"sk-toggleable__control sk-hidden--visually\" id=\"sk-estimator-id-11\" type=\"checkbox\" checked><label for=\"sk-estimator-id-11\" class=\"sk-toggleable__label sk-toggleable__label-arrow\">KNeighborsClassifier</label><div class=\"sk-toggleable__content\"><pre>KNeighborsClassifier(metric=&#x27;manhattan&#x27;, n_neighbors=22, weights=&#x27;distance&#x27;)</pre></div></div></div></div></div>"
      ],
      "text/plain": [
       "KNeighborsClassifier(metric='manhattan', n_neighbors=22, weights='distance')"
      ]
     },
     "execution_count": 49,
     "metadata": {},
     "output_type": "execute_result"
    }
   ],
   "source": [
    "vecinos_search2.best_estimator_"
   ]
  },
  {
   "cell_type": "code",
   "execution_count": 50,
   "id": "59ddbc1e",
   "metadata": {
    "id": "59ddbc1e",
    "outputId": "8a642e74-86ee-4f02-a474-034a081fe3e5"
   },
   "outputs": [
    {
     "data": {
      "text/plain": [
       "0.6998575331864921"
      ]
     },
     "execution_count": 50,
     "metadata": {},
     "output_type": "execute_result"
    }
   ],
   "source": [
    "vecinos_search2.best_score_"
   ]
  },
  {
   "cell_type": "code",
   "execution_count": 51,
   "id": "39dc0a93",
   "metadata": {
    "id": "39dc0a93"
   },
   "outputs": [],
   "source": [
    "knn_best2 = vecinos_search2.best_estimator_"
   ]
  },
  {
   "cell_type": "markdown",
   "id": "e72a97a1",
   "metadata": {},
   "source": [
    "* Gráficamos"
   ]
  },
  {
   "cell_type": "code",
   "execution_count": 52,
   "id": "22fad15f",
   "metadata": {
    "id": "22fad15f",
    "outputId": "c7a4ed86-a6dc-490a-a647-79ddfb6c2335"
   },
   "outputs": [
    {
     "data": {
      "image/png": "[encoded data removed]",
      "text/plain": [
       "<Figure size 640x480 with 2 Axes>"
      ]
     },
     "metadata": {},
     "output_type": "display_data"
    }
   ],
   "source": [
    "plt.figure()\n",
    "random_confusion = confusion_matrix(y_test, new_predictions)\n",
    "sns.heatmap(random_confusion, cmap=\"YlGnBu\",annot=True);"
   ]
  },
  {
   "cell_type": "code",
   "execution_count": 53,
   "id": "534cd5ee",
   "metadata": {
    "id": "534cd5ee",
    "outputId": "55d94d8a-1e4e-41eb-9b10-cc4f03114e89"
   },
   "outputs": [
    {
     "name": "stdout",
     "output_type": "stream",
     "text": [
      "Accuracy: 69.43%\n",
      "Precision: 72.10%\n",
      "Recall: 88.56%\n",
      "F1 score: 79.48%\n"
     ]
    }
   ],
   "source": [
    "print(f\"Accuracy: {accuracy_score(y_test, y_test_pred)*100 :.2f}%\")\n",
    "print(f\"Precision: {precision_score(y_test, y_test_pred)*100 :.2f}%\")\n",
    "print(f\"Recall: {recall_score(y_test, y_test_pred)*100 :.2f}%\")\n",
    "print(f\"F1 score: {f1_score(y_test, y_test_pred)*100 :.2f}%\")"
   ]
  },
  {
   "cell_type": "markdown",
   "id": "f7c24665",
   "metadata": {
    "id": "f7c24665"
   },
   "source": [
    "Con los parametros de la segunda target observamos que el modelo performó mejor que con la variable target X, pero aun así no es tan eficiente ya que el accuracy es del 69.43%, el recall disminuyó."
   ]
  },
  {
   "cell_type": "markdown",
   "id": "add8ff87",
   "metadata": {
    "id": "add8ff87"
   },
   "source": [
    "***7. Random Forest***"
   ]
  },
  {
   "cell_type": "markdown",
   "id": "94c1a104-86f9-40ea-b028-e16beb762ce5",
   "metadata": {},
   "source": [
    "Probamos un Modelo de Random Forest para clasificar y así poder comparar la performance de los modelos"
   ]
  },
  {
   "cell_type": "markdown",
   "id": "68d02727",
   "metadata": {},
   "source": [
    "* Entrenamos el modelo"
   ]
  },
  {
   "cell_type": "code",
   "execution_count": 54,
   "id": "af1e099c",
   "metadata": {
    "id": "af1e099c",
    "tags": []
   },
   "outputs": [],
   "source": [
    "rf_pa = RandomForestClassifier()"
   ]
  },
  {
   "cell_type": "code",
   "execution_count": 55,
   "id": "e569d29a",
   "metadata": {
    "id": "e569d29a",
    "outputId": "256e658a-45df-40b8-d287-6eb499f42631",
    "tags": []
   },
   "outputs": [
    {
     "data": {
      "text/html": [
       "<style>#sk-container-id-8 {color: black;}#sk-container-id-8 pre{padding: 0;}#sk-container-id-8 div.sk-toggleable {background-color: white;}#sk-container-id-8 label.sk-toggleable__label {cursor: pointer;display: block;width: 100%;margin-bottom: 0;padding: 0.3em;box-sizing: border-box;text-align: center;}#sk-container-id-8 label.sk-toggleable__label-arrow:before {content: \"▸\";float: left;margin-right: 0.25em;color: #696969;}#sk-container-id-8 label.sk-toggleable__label-arrow:hover:before {color: black;}#sk-container-id-8 div.sk-estimator:hover label.sk-toggleable__label-arrow:before {color: black;}#sk-container-id-8 div.sk-toggleable__content {max-height: 0;max-width: 0;overflow: hidden;text-align: left;background-color: #f0f8ff;}#sk-container-id-8 div.sk-toggleable__content pre {margin: 0.2em;color: black;border-radius: 0.25em;background-color: #f0f8ff;}#sk-container-id-8 input.sk-toggleable__control:checked~div.sk-toggleable__content {max-height: 200px;max-width: 100%;overflow: auto;}#sk-container-id-8 input.sk-toggleable__control:checked~label.sk-toggleable__label-arrow:before {content: \"▾\";}#sk-container-id-8 div.sk-estimator input.sk-toggleable__control:checked~label.sk-toggleable__label {background-color: #d4ebff;}#sk-container-id-8 div.sk-label input.sk-toggleable__control:checked~label.sk-toggleable__label {background-color: #d4ebff;}#sk-container-id-8 input.sk-hidden--visually {border: 0;clip: rect(1px 1px 1px 1px);clip: rect(1px, 1px, 1px, 1px);height: 1px;margin: -1px;overflow: hidden;padding: 0;position: absolute;width: 1px;}#sk-container-id-8 div.sk-estimator {font-family: monospace;background-color: #f0f8ff;border: 1px dotted black;border-radius: 0.25em;box-sizing: border-box;margin-bottom: 0.5em;}#sk-container-id-8 div.sk-estimator:hover {background-color: #d4ebff;}#sk-container-id-8 div.sk-parallel-item::after {content: \"\";width: 100%;border-bottom: 1px solid gray;flex-grow: 1;}#sk-container-id-8 div.sk-label:hover label.sk-toggleable__label {background-color: #d4ebff;}#sk-container-id-8 div.sk-serial::before {content: \"\";position: absolute;border-left: 1px solid gray;box-sizing: border-box;top: 0;bottom: 0;left: 50%;z-index: 0;}#sk-container-id-8 div.sk-serial {display: flex;flex-direction: column;align-items: center;background-color: white;padding-right: 0.2em;padding-left: 0.2em;position: relative;}#sk-container-id-8 div.sk-item {position: relative;z-index: 1;}#sk-container-id-8 div.sk-parallel {display: flex;align-items: stretch;justify-content: center;background-color: white;position: relative;}#sk-container-id-8 div.sk-item::before, #sk-container-id-8 div.sk-parallel-item::before {content: \"\";position: absolute;border-left: 1px solid gray;box-sizing: border-box;top: 0;bottom: 0;left: 50%;z-index: -1;}#sk-container-id-8 div.sk-parallel-item {display: flex;flex-direction: column;z-index: 1;position: relative;background-color: white;}#sk-container-id-8 div.sk-parallel-item:first-child::after {align-self: flex-end;width: 50%;}#sk-container-id-8 div.sk-parallel-item:last-child::after {align-self: flex-start;width: 50%;}#sk-container-id-8 div.sk-parallel-item:only-child::after {width: 0;}#sk-container-id-8 div.sk-dashed-wrapped {border: 1px dashed gray;margin: 0 0.4em 0.5em 0.4em;box-sizing: border-box;padding-bottom: 0.4em;background-color: white;}#sk-container-id-8 div.sk-label label {font-family: monospace;font-weight: bold;display: inline-block;line-height: 1.2em;}#sk-container-id-8 div.sk-label-container {text-align: center;}#sk-container-id-8 div.sk-container {/* jupyter's `normalize.less` sets `[hidden] { display: none; }` but bootstrap.min.css set `[hidden] { display: none !important; }` so we also need the `!important` here to be able to override the default hidden behavior on the sphinx rendered scikit-learn.org. See: https://github.com/scikit-learn/scikit-learn/issues/21755 */display: inline-block !important;position: relative;}#sk-container-id-8 div.sk-text-repr-fallback {display: none;}</style><div id=\"sk-container-id-8\" class=\"sk-top-container\"><div class=\"sk-text-repr-fallback\"><pre>RandomForestClassifier()</pre><b>In a Jupyter environment, please rerun this cell to show the HTML representation or trust the notebook. <br />On GitHub, the HTML representation is unable to render, please try loading this page with nbviewer.org.</b></div><div class=\"sk-container\" hidden><div class=\"sk-item\"><div class=\"sk-estimator sk-toggleable\"><input class=\"sk-toggleable__control sk-hidden--visually\" id=\"sk-estimator-id-12\" type=\"checkbox\" checked><label for=\"sk-estimator-id-12\" class=\"sk-toggleable__label sk-toggleable__label-arrow\">RandomForestClassifier</label><div class=\"sk-toggleable__content\"><pre>RandomForestClassifier()</pre></div></div></div></div></div>"
      ],
      "text/plain": [
       "RandomForestClassifier()"
      ]
     },
     "execution_count": 55,
     "metadata": {},
     "output_type": "execute_result"
    }
   ],
   "source": [
    "rf_pa.fit(X_train, y_train)"
   ]
  },
  {
   "cell_type": "markdown",
   "id": "8c6dfc15",
   "metadata": {},
   "source": [
    "* Predecimos"
   ]
  },
  {
   "cell_type": "code",
   "execution_count": 56,
   "id": "1ecf4ff7",
   "metadata": {
    "id": "1ecf4ff7"
   },
   "outputs": [],
   "source": [
    "predicciones_pa= rf_pa.predict(X_test)"
   ]
  },
  {
   "cell_type": "code",
   "execution_count": 57,
   "id": "e531ee7a",
   "metadata": {
    "id": "e531ee7a"
   },
   "outputs": [],
   "source": [
    "predicciones_train= rf_pa.predict(X_train)"
   ]
  },
  {
   "cell_type": "markdown",
   "id": "76b2887d",
   "metadata": {},
   "source": [
    "* Métricas"
   ]
  },
  {
   "cell_type": "code",
   "execution_count": 58,
   "id": "3bbfe19a",
   "metadata": {
    "id": "3bbfe19a",
    "outputId": "e1e9d8f2-4b5d-445c-a34f-627037df086c"
   },
   "outputs": [
    {
     "name": "stdout",
     "output_type": "stream",
     "text": [
      "72.57%\n"
     ]
    }
   ],
   "source": [
    "accuracy = accuracy_score(y_test, predicciones_pa)*100\n",
    "print(f'{round(accuracy, 2)}%')"
   ]
  },
  {
   "cell_type": "code",
   "execution_count": 59,
   "id": "f4139fb0",
   "metadata": {
    "id": "f4139fb0",
    "outputId": "4c143671-3eea-4006-f5cc-e049c2356034"
   },
   "outputs": [
    {
     "name": "stdout",
     "output_type": "stream",
     "text": [
      "99.9%\n"
     ]
    }
   ],
   "source": [
    "accuracy = accuracy_score(y_train, predicciones_train)*100\n",
    "print(f'{round(accuracy, 2)}%')"
   ]
  },
  {
   "cell_type": "code",
   "execution_count": 60,
   "id": "654b997e",
   "metadata": {
    "id": "654b997e",
    "outputId": "26b40f60-a20a-4fbd-cb8b-62f0acbde96b"
   },
   "outputs": [
    {
     "name": "stdout",
     "output_type": "stream",
     "text": [
      "Accuracy: 72.57%\n",
      "Precision: 76.66%\n",
      "Recall: 84.81%\n",
      "F1 score: 80.53%\n"
     ]
    }
   ],
   "source": [
    "print(f\"Accuracy: {accuracy_score(y_test, predicciones_pa)*100 :.2f}%\")\n",
    "print(f\"Precision: {precision_score(y_test, predicciones_pa)*100 :.2f}%\")\n",
    "print(f\"Recall: {recall_score(y_test, predicciones_pa)*100 :.2f}%\")\n",
    "print(f\"F1 score: {f1_score(y_test, predicciones_pa)*100 :.2f}%\")"
   ]
  },
  {
   "cell_type": "markdown",
   "id": "78a5efd7",
   "metadata": {},
   "source": [
    "* Gráficamos"
   ]
  },
  {
   "cell_type": "code",
   "execution_count": 61,
   "id": "4177cd8c",
   "metadata": {
    "id": "4177cd8c",
    "outputId": "280b13f4-21e3-4d7e-82fe-611607be2596"
   },
   "outputs": [
    {
     "data": {
      "image/png": "[encoded data removed]",
      "text/plain": [
       "<Figure size 640x480 with 2 Axes>"
      ]
     },
     "metadata": {},
     "output_type": "display_data"
    }
   ],
   "source": [
    "plt.figure()\n",
    "random_confusion = confusion_matrix(y_test, predicciones_pa)\n",
    "sns.heatmap(random_confusion, cmap=\"YlGnBu\",annot=True);"
   ]
  },
  {
   "cell_type": "markdown",
   "id": "583a1371-3ca2-4e6b-af51-d3f8559c3fee",
   "metadata": {
    "id": "b1be76de"
   },
   "source": [
    "El modelo parece tener un rendimiento sólido. La Accuracy del 76.82% sugiere que cuando el modelo predice la clase positiva, tiene una tasa razonable de aciertos. El recall del 85.46% indica que el modelo es efectivo para capturar la mayoría de las instancias positivas en el conjunto de datos. El F1 score del 80.91% proporciona una medida equilibrada entre la precisión y la capacidad del modelo para capturar instancias positivas."
   ]
  },
  {
   "cell_type": "markdown",
   "id": "3452b71c-2507-477e-982d-76a4c9a90a77",
   "metadata": {},
   "source": [
    "### Conclusión"
   ]
  },
  {
   "cell_type": "markdown",
   "id": "93e8cf59",
   "metadata": {
    "id": "93e8cf59"
   },
   "source": [
    "#####  Con Random Forest observamos que el modelo performó mejor que con KNN. El Accuracy de la prueba es de 73.04%"
   ]
  },
  {
   "cell_type": "markdown",
   "id": "04a21884-d305-4b28-815e-7d621213eff3",
   "metadata": {},
   "source": [
    "Por un lado podemos mencionar que el Modelo que mejor performa es el Random Forest, ya que obtiene un Accuracy de 73.04%. Esto representa la proporción de predicciones correctas realizadas por el modelo en relación con el total de predicciones. \n",
    "Sin embargo dado que al analizar la correlación entre las variables mencionamos que hay muy baja correlación esto puede afectar el rendimiento del Modelo y por ello podría ser mas eficiente si hubieran features que cumplieran con esa característica. Incluyendo nuevas variables en el Modelo se podria obtener una mejor predicción de la elecciòn de equipaje extra, para lo cual deberíamos solicitar a la Aerolìnea nuevos datos."
   ]
  }
 ],
 "metadata": {
  "colab": {
   "provenance": []
  },
  "kernelspec": {
   "display_name": "Python 3 (ipykernel)",
   "language": "python",
   "name": "python3"
  },
  "language_info": {
   "codemirror_mode": {
    "name": "ipython",
    "version": 3
   },
   "file_extension": ".py",
   "mimetype": "text/x-python",
   "name": "python",
   "nbconvert_exporter": "python",
   "pygments_lexer": "ipython3",
   "version": "3.10.13"
  }
 },
 "nbformat": 4,
 "nbformat_minor": 5
}
